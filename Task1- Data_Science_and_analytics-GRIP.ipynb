{
 "cells": [
  {
   "cell_type": "markdown",
   "id": "8db06584",
   "metadata": {},
   "source": [
    "# GRIP: The Sparks Foundation- Data Science & Business Analytics Internship"
   ]
  },
  {
   "cell_type": "markdown",
   "id": "839c1dbf",
   "metadata": {},
   "source": [
    "### Author: ADITI SHARMA\n",
    "### Email: aditi0712sharma@gmail.com\n",
    "### Batch: GRIP APRIL 2022\n",
    "### **Task 1: Prediction using Supervised ML**"
   ]
  },
  {
   "cell_type": "markdown",
   "id": "02856473",
   "metadata": {},
   "source": [
    "### Detail: Predict the percentage of a student based on the no. of study hours. This is a simple linear regression as it involves only two variables."
   ]
  },
  {
   "cell_type": "markdown",
   "id": "89fac65d",
   "metadata": {},
   "source": [
    "### Importing the required libraries:"
   ]
  },
  {
   "cell_type": "code",
   "execution_count": 13,
   "id": "f89752d5",
   "metadata": {},
   "outputs": [],
   "source": [
    "import numpy as np\n",
    "import pandas as pd\n",
    "import matplotlib.pyplot as plt\n",
    "%matplotlib inline\n",
    "import seaborn as sns\n",
    "from sklearn.linear_model import LinearRegression\n",
    "from sklearn.model_selection import train_test_split"
   ]
  },
  {
   "cell_type": "markdown",
   "id": "49b54d5f",
   "metadata": {},
   "source": [
    "### Importing the datasets"
   ]
  },
  {
   "cell_type": "code",
   "execution_count": 14,
   "id": "a71b3c0a",
   "metadata": {},
   "outputs": [
    {
     "data": {
      "text/html": [
       "<div>\n",
       "<style scoped>\n",
       "    .dataframe tbody tr th:only-of-type {\n",
       "        vertical-align: middle;\n",
       "    }\n",
       "\n",
       "    .dataframe tbody tr th {\n",
       "        vertical-align: top;\n",
       "    }\n",
       "\n",
       "    .dataframe thead th {\n",
       "        text-align: right;\n",
       "    }\n",
       "</style>\n",
       "<table border=\"1\" class=\"dataframe\">\n",
       "  <thead>\n",
       "    <tr style=\"text-align: right;\">\n",
       "      <th></th>\n",
       "      <th>Hours</th>\n",
       "      <th>Scores</th>\n",
       "    </tr>\n",
       "  </thead>\n",
       "  <tbody>\n",
       "    <tr>\n",
       "      <th>0</th>\n",
       "      <td>2.5</td>\n",
       "      <td>21</td>\n",
       "    </tr>\n",
       "    <tr>\n",
       "      <th>1</th>\n",
       "      <td>5.1</td>\n",
       "      <td>47</td>\n",
       "    </tr>\n",
       "    <tr>\n",
       "      <th>2</th>\n",
       "      <td>3.2</td>\n",
       "      <td>27</td>\n",
       "    </tr>\n",
       "    <tr>\n",
       "      <th>3</th>\n",
       "      <td>8.5</td>\n",
       "      <td>75</td>\n",
       "    </tr>\n",
       "    <tr>\n",
       "      <th>4</th>\n",
       "      <td>3.5</td>\n",
       "      <td>30</td>\n",
       "    </tr>\n",
       "  </tbody>\n",
       "</table>\n",
       "</div>"
      ],
      "text/plain": [
       "   Hours  Scores\n",
       "0    2.5      21\n",
       "1    5.1      47\n",
       "2    3.2      27\n",
       "3    8.5      75\n",
       "4    3.5      30"
      ]
     },
     "execution_count": 14,
     "metadata": {},
     "output_type": "execute_result"
    }
   ],
   "source": [
    "data_source=\"http://bit.ly/w-data\"\n",
    "df_student= pd.read_csv(data_source)\n",
    "df_student.head(5)"
   ]
  },
  {
   "cell_type": "markdown",
   "id": "a9ce0312",
   "metadata": {},
   "source": [
    "#### Reading the dataset"
   ]
  },
  {
   "cell_type": "code",
   "execution_count": 15,
   "id": "eef0ec72",
   "metadata": {},
   "outputs": [
    {
     "data": {
      "text/plain": [
       "(25, 2)"
      ]
     },
     "execution_count": 15,
     "metadata": {},
     "output_type": "execute_result"
    }
   ],
   "source": [
    "df_student.shape"
   ]
  },
  {
   "cell_type": "code",
   "execution_count": 16,
   "id": "4116b455",
   "metadata": {
    "scrolled": true
   },
   "outputs": [
    {
     "name": "stdout",
     "output_type": "stream",
     "text": [
      "<class 'pandas.core.frame.DataFrame'>\n",
      "RangeIndex: 25 entries, 0 to 24\n",
      "Data columns (total 2 columns):\n",
      " #   Column  Non-Null Count  Dtype  \n",
      "---  ------  --------------  -----  \n",
      " 0   Hours   25 non-null     float64\n",
      " 1   Scores  25 non-null     int64  \n",
      "dtypes: float64(1), int64(1)\n",
      "memory usage: 528.0 bytes\n"
     ]
    }
   ],
   "source": [
    "df_student.info()"
   ]
  },
  {
   "cell_type": "markdown",
   "id": "cba8fb6a",
   "metadata": {},
   "source": [
    "#### Checking if any null value exists in the dataset:"
   ]
  },
  {
   "cell_type": "code",
   "execution_count": 17,
   "id": "e73a7c3a",
   "metadata": {},
   "outputs": [
    {
     "data": {
      "text/plain": [
       "Hours     0\n",
       "Scores    0\n",
       "dtype: int64"
      ]
     },
     "execution_count": 17,
     "metadata": {},
     "output_type": "execute_result"
    }
   ],
   "source": [
    "df_student.isnull().sum()"
   ]
  },
  {
   "cell_type": "markdown",
   "id": "6f1ba9c4",
   "metadata": {},
   "source": [
    "### Data Visualization"
   ]
  },
  {
   "cell_type": "code",
   "execution_count": 18,
   "id": "15acfd9b",
   "metadata": {},
   "outputs": [
    {
     "data": {
      "image/png": "[encoded data removed]",
      "text/plain": [
       "<Figure size 432x288 with 1 Axes>"
      ]
     },
     "metadata": {},
     "output_type": "display_data"
    }
   ],
   "source": [
    "plt.style.use('ggplot')\n",
    "df_student.plot(kind='line')\n",
    "plt.title('Study Hours vs Percentage Score')\n",
    "plt.xlabel('Hours Studied')\n",
    "plt.ylabel('Percentage Scored')\n",
    "plt.show()"
   ]
  },
  {
   "cell_type": "markdown",
   "id": "31d26bed",
   "metadata": {},
   "source": [
    "#### Plotting a regression line to view the correlation."
   ]
  },
  {
   "cell_type": "code",
   "execution_count": 19,
   "id": "ba7d1ca1",
   "metadata": {},
   "outputs": [
    {
     "data": {
      "image/png": "[encoded data removed]",
      "text/plain": [
       "<Figure size 432x288 with 1 Axes>"
      ]
     },
     "metadata": {},
     "output_type": "display_data"
    },
    {
     "name": "stdout",
     "output_type": "stream",
     "text": [
      "           Hours    Scores\n",
      "Hours   1.000000  0.976191\n",
      "Scores  0.976191  1.000000\n"
     ]
    }
   ],
   "source": [
    "sns.regplot(x=df_student['Hours'], y=df_student['Scores'],color='g')\n",
    "plt.title('Regression Plot', size=20)\n",
    "plt.xlabel('Hours Studied',size=12)\n",
    "plt.ylabel('Percentage Scored',size=12)\n",
    "plt.show()\n",
    "print(df_student.corr())"
   ]
  },
  {
   "cell_type": "markdown",
   "id": "6108f0c6",
   "metadata": {},
   "source": [
    "#### From the above plot it is clear that our variables have a positive correlation."
   ]
  },
  {
   "cell_type": "markdown",
   "id": "10413fce",
   "metadata": {},
   "source": [
    "### Training the Model\n",
    "#### 1. Splitting the Data"
   ]
  },
  {
   "cell_type": "code",
   "execution_count": 20,
   "id": "e240f469",
   "metadata": {},
   "outputs": [],
   "source": [
    "# Defining x and y \n",
    "x= df_student.iloc[:,:-1].values\n",
    "y= df_student.iloc[:,1].values\n",
    "# Splitting the data\n",
    "train_x, test_x, train_y,test_y=train_test_split(x,y,test_size=0.5, random_state=7)"
   ]
  },
  {
   "cell_type": "markdown",
   "id": "9dd5d5d4",
   "metadata": {},
   "source": [
    "#### 2. Fitting the data"
   ]
  },
  {
   "cell_type": "code",
   "execution_count": 24,
   "id": "d1078835",
   "metadata": {},
   "outputs": [
    {
     "data": {
      "image/png": "[encoded data removed]",
      "text/plain": [
       "<Figure size 576x432 with 1 Axes>"
      ]
     },
     "metadata": {},
     "output_type": "display_data"
    }
   ],
   "source": [
    "# plotting the regression line\n",
    "line= Regressor.coef_ * train_x + Regressor.intercept_\n",
    "df_student.plot(kind='scatter', x='Hours', y='Scores', figsize=(8,6), color='g')\n",
    "plt.plot(train_x, line, color='b')\n",
    "plt.title('Hours vs Percentage')\n",
    "plt.xlabel('Hours Studied')\n",
    "plt.ylabel('Percentage Scored')\n",
    "plt.show()"
   ]
  },
  {
   "cell_type": "markdown",
   "id": "b5b9456d",
   "metadata": {},
   "source": [
    "#### *The Blue line indicates the best fit line for the given dataset.*"
   ]
  },
  {
   "cell_type": "code",
   "execution_count": 25,
   "id": "09a14b8d",
   "metadata": {},
   "outputs": [
    {
     "name": "stdout",
     "output_type": "stream",
     "text": [
      "Model Taining Completed!\n",
      "Intercept:  3.1636310620971386\n",
      "Coefficient:  [9.73101315]\n"
     ]
    }
   ],
   "source": [
    "Regressor= LinearRegression()\n",
    "Regressor.fit(train_x,train_y)\n",
    "print('Model Taining Completed!')\n",
    "print('Intercept: ',Regressor.intercept_)\n",
    "print('Coefficient: ',Regressor.coef_)"
   ]
  },
  {
   "cell_type": "markdown",
   "id": "7b478f1f",
   "metadata": {},
   "source": [
    "### Predicting percentage Scored"
   ]
  },
  {
   "cell_type": "code",
   "execution_count": 26,
   "id": "820b7b41",
   "metadata": {},
   "outputs": [
    {
     "name": "stdout",
     "output_type": "stream",
     "text": [
      "Testing set: \n",
      "[[5.1]\n",
      " [1.5]\n",
      " [5.9]\n",
      " [3.3]\n",
      " [3.2]\n",
      " [4.8]\n",
      " [2.7]\n",
      " [2.5]\n",
      " [4.5]\n",
      " [2.5]\n",
      " [6.9]\n",
      " [9.2]\n",
      " [2.7]]\n"
     ]
    }
   ],
   "source": [
    "print('Testing set: ')\n",
    "print(test_x)"
   ]
  },
  {
   "cell_type": "code",
   "execution_count": 27,
   "id": "eac3b7e1",
   "metadata": {},
   "outputs": [
    {
     "data": {
      "text/html": [
       "<div>\n",
       "<style scoped>\n",
       "    .dataframe tbody tr th:only-of-type {\n",
       "        vertical-align: middle;\n",
       "    }\n",
       "\n",
       "    .dataframe tbody tr th {\n",
       "        vertical-align: top;\n",
       "    }\n",
       "\n",
       "    .dataframe thead th {\n",
       "        text-align: right;\n",
       "    }\n",
       "</style>\n",
       "<table border=\"1\" class=\"dataframe\">\n",
       "  <thead>\n",
       "    <tr style=\"text-align: right;\">\n",
       "      <th></th>\n",
       "      <th>Hours</th>\n",
       "      <th>Predicted Score</th>\n",
       "    </tr>\n",
       "  </thead>\n",
       "  <tbody>\n",
       "    <tr>\n",
       "      <th>0</th>\n",
       "      <td>[5.1]</td>\n",
       "      <td>52.791798</td>\n",
       "    </tr>\n",
       "    <tr>\n",
       "      <th>1</th>\n",
       "      <td>[1.5]</td>\n",
       "      <td>17.760151</td>\n",
       "    </tr>\n",
       "    <tr>\n",
       "      <th>2</th>\n",
       "      <td>[5.9]</td>\n",
       "      <td>60.576609</td>\n",
       "    </tr>\n",
       "    <tr>\n",
       "      <th>3</th>\n",
       "      <td>[3.3]</td>\n",
       "      <td>35.275974</td>\n",
       "    </tr>\n",
       "    <tr>\n",
       "      <th>4</th>\n",
       "      <td>[3.2]</td>\n",
       "      <td>34.302873</td>\n",
       "    </tr>\n",
       "    <tr>\n",
       "      <th>5</th>\n",
       "      <td>[4.8]</td>\n",
       "      <td>49.872494</td>\n",
       "    </tr>\n",
       "    <tr>\n",
       "      <th>6</th>\n",
       "      <td>[2.7]</td>\n",
       "      <td>29.437367</td>\n",
       "    </tr>\n",
       "    <tr>\n",
       "      <th>7</th>\n",
       "      <td>[2.5]</td>\n",
       "      <td>27.491164</td>\n",
       "    </tr>\n",
       "    <tr>\n",
       "      <th>8</th>\n",
       "      <td>[4.5]</td>\n",
       "      <td>46.953190</td>\n",
       "    </tr>\n",
       "    <tr>\n",
       "      <th>9</th>\n",
       "      <td>[2.5]</td>\n",
       "      <td>27.491164</td>\n",
       "    </tr>\n",
       "    <tr>\n",
       "      <th>10</th>\n",
       "      <td>[6.9]</td>\n",
       "      <td>70.307622</td>\n",
       "    </tr>\n",
       "    <tr>\n",
       "      <th>11</th>\n",
       "      <td>[9.2]</td>\n",
       "      <td>92.688952</td>\n",
       "    </tr>\n",
       "    <tr>\n",
       "      <th>12</th>\n",
       "      <td>[2.7]</td>\n",
       "      <td>29.437367</td>\n",
       "    </tr>\n",
       "  </tbody>\n",
       "</table>\n",
       "</div>"
      ],
      "text/plain": [
       "    Hours  Predicted Score\n",
       "0   [5.1]        52.791798\n",
       "1   [1.5]        17.760151\n",
       "2   [5.9]        60.576609\n",
       "3   [3.3]        35.275974\n",
       "4   [3.2]        34.302873\n",
       "5   [4.8]        49.872494\n",
       "6   [2.7]        29.437367\n",
       "7   [2.5]        27.491164\n",
       "8   [4.5]        46.953190\n",
       "9   [2.5]        27.491164\n",
       "10  [6.9]        70.307622\n",
       "11  [9.2]        92.688952\n",
       "12  [2.7]        29.437367"
      ]
     },
     "execution_count": 27,
     "metadata": {},
     "output_type": "execute_result"
    }
   ],
   "source": [
    "predict_y=Regressor.predict(test_x)\n",
    "prediction=pd.DataFrame({'Hours':[i for i in test_x], 'Predicted Score' : [j for j in predict_y]})\n",
    "prediction"
   ]
  },
  {
   "cell_type": "markdown",
   "id": "a40e8815",
   "metadata": {},
   "source": [
    "#### Comparing Actual Score and Predicted Score"
   ]
  },
  {
   "cell_type": "code",
   "execution_count": 28,
   "id": "05e000dc",
   "metadata": {},
   "outputs": [
    {
     "data": {
      "text/html": [
       "<div>\n",
       "<style scoped>\n",
       "    .dataframe tbody tr th:only-of-type {\n",
       "        vertical-align: middle;\n",
       "    }\n",
       "\n",
       "    .dataframe tbody tr th {\n",
       "        vertical-align: top;\n",
       "    }\n",
       "\n",
       "    .dataframe thead th {\n",
       "        text-align: right;\n",
       "    }\n",
       "</style>\n",
       "<table border=\"1\" class=\"dataframe\">\n",
       "  <thead>\n",
       "    <tr style=\"text-align: right;\">\n",
       "      <th></th>\n",
       "      <th>Actual Score</th>\n",
       "      <th>Predicted Score</th>\n",
       "    </tr>\n",
       "  </thead>\n",
       "  <tbody>\n",
       "    <tr>\n",
       "      <th>0</th>\n",
       "      <td>47</td>\n",
       "      <td>52.791798</td>\n",
       "    </tr>\n",
       "    <tr>\n",
       "      <th>1</th>\n",
       "      <td>20</td>\n",
       "      <td>17.760151</td>\n",
       "    </tr>\n",
       "    <tr>\n",
       "      <th>2</th>\n",
       "      <td>62</td>\n",
       "      <td>60.576609</td>\n",
       "    </tr>\n",
       "    <tr>\n",
       "      <th>3</th>\n",
       "      <td>42</td>\n",
       "      <td>35.275974</td>\n",
       "    </tr>\n",
       "    <tr>\n",
       "      <th>4</th>\n",
       "      <td>27</td>\n",
       "      <td>34.302873</td>\n",
       "    </tr>\n",
       "    <tr>\n",
       "      <th>5</th>\n",
       "      <td>54</td>\n",
       "      <td>49.872494</td>\n",
       "    </tr>\n",
       "    <tr>\n",
       "      <th>6</th>\n",
       "      <td>25</td>\n",
       "      <td>29.437367</td>\n",
       "    </tr>\n",
       "    <tr>\n",
       "      <th>7</th>\n",
       "      <td>30</td>\n",
       "      <td>27.491164</td>\n",
       "    </tr>\n",
       "    <tr>\n",
       "      <th>8</th>\n",
       "      <td>41</td>\n",
       "      <td>46.953190</td>\n",
       "    </tr>\n",
       "    <tr>\n",
       "      <th>9</th>\n",
       "      <td>21</td>\n",
       "      <td>27.491164</td>\n",
       "    </tr>\n",
       "    <tr>\n",
       "      <th>10</th>\n",
       "      <td>76</td>\n",
       "      <td>70.307622</td>\n",
       "    </tr>\n",
       "    <tr>\n",
       "      <th>11</th>\n",
       "      <td>88</td>\n",
       "      <td>92.688952</td>\n",
       "    </tr>\n",
       "    <tr>\n",
       "      <th>12</th>\n",
       "      <td>30</td>\n",
       "      <td>29.437367</td>\n",
       "    </tr>\n",
       "  </tbody>\n",
       "</table>\n",
       "</div>"
      ],
      "text/plain": [
       "    Actual Score  Predicted Score\n",
       "0             47        52.791798\n",
       "1             20        17.760151\n",
       "2             62        60.576609\n",
       "3             42        35.275974\n",
       "4             27        34.302873\n",
       "5             54        49.872494\n",
       "6             25        29.437367\n",
       "7             30        27.491164\n",
       "8             41        46.953190\n",
       "9             21        27.491164\n",
       "10            76        70.307622\n",
       "11            88        92.688952\n",
       "12            30        29.437367"
      ]
     },
     "execution_count": 28,
     "metadata": {},
     "output_type": "execute_result"
    }
   ],
   "source": [
    "comparison= pd.DataFrame({'Actual Score':test_y, 'Predicted Score':predict_y})\n",
    "comparison"
   ]
  },
  {
   "cell_type": "markdown",
   "id": "d439ebe4",
   "metadata": {},
   "source": [
    "### Visualising the comparison between scores"
   ]
  },
  {
   "cell_type": "code",
   "execution_count": 29,
   "id": "dcc8c195",
   "metadata": {},
   "outputs": [
    {
     "data": {
      "image/png": "[encoded data removed]",
      "text/plain": [
       "<Figure size 432x288 with 1 Axes>"
      ]
     },
     "metadata": {},
     "output_type": "display_data"
    }
   ],
   "source": [
    "plt.scatter(x=test_x, y=test_y, color='maroon')\n",
    "plt.plot(test_x, predict_y, color='orange')\n",
    "plt.title('Actual vs Predicted', size=20)\n",
    "plt.ylabel('Marks Percentage', size=12)\n",
    "plt.xlabel('Hours Studied', size=12)\n",
    "plt.show()"
   ]
  },
  {
   "cell_type": "markdown",
   "id": "67300934",
   "metadata": {},
   "source": [
    "### Evaluating the Model"
   ]
  },
  {
   "cell_type": "markdown",
   "id": "5b2bcc9f",
   "metadata": {},
   "source": [
    "#### Calculating mean absolute error and r2 to view the accuracy using metrics:"
   ]
  },
  {
   "cell_type": "code",
   "execution_count": 30,
   "id": "9113b0cf",
   "metadata": {},
   "outputs": [],
   "source": [
    "from sklearn import metrics\n",
    "from sklearn.metrics import mean_absolute_error\n",
    "from sklearn.metrics import r2_score"
   ]
  },
  {
   "cell_type": "code",
   "execution_count": 31,
   "id": "1fe444e7",
   "metadata": {},
   "outputs": [
    {
     "name": "stdout",
     "output_type": "stream",
     "text": [
      "Mean Absolute Error:  4.457227975144809\n",
      "R2 Score: 0.94\n"
     ]
    }
   ],
   "source": [
    "print('Mean Absolute Error: ',mean_absolute_error(test_y, predict_y))\n",
    "print('R2 Score: %.2f' % r2_score(predict_y, test_y))"
   ]
  },
  {
   "cell_type": "markdown",
   "id": "1e600a80",
   "metadata": {},
   "source": [
    "#### Low value of Mean absolute error indicates less chances of false forcasting and R2 score of 0.94 reveals that 94% of the data fits the regression model."
   ]
  },
  {
   "cell_type": "markdown",
   "id": "6e071d9c",
   "metadata": {},
   "source": [
    "## Predicting percentage Scored if studied for 9.25 hours/day."
   ]
  },
  {
   "cell_type": "code",
   "execution_count": 32,
   "id": "7094bb29",
   "metadata": {},
   "outputs": [
    {
     "name": "stdout",
     "output_type": "stream",
     "text": [
      "Number of Hours: 9.25\n",
      "Predicted Percentage Scored: 93.17550272319242\n"
     ]
    }
   ],
   "source": [
    "hrs= 9.25\n",
    "predicted_score=Regressor.predict([[hrs]])\n",
    "print(f'Number of Hours: {hrs}')\n",
    "print(f'Predicted Percentage Scored: {predicted_score[0]}')"
   ]
  },
  {
   "cell_type": "markdown",
   "id": "0b25d231",
   "metadata": {},
   "source": [
    "## To conclude, 9.25 hours/day of studying will lead to 93.18% of marks scored."
   ]
  }
 ],
 "metadata": {
  "kernelspec": {
   "display_name": "Python 3",
   "language": "python",
   "name": "python3"
  },
  "language_info": {
   "codemirror_mode": {
    "name": "ipython",
    "version": 3
   },
   "file_extension": ".py",
   "mimetype": "text/x-python",
   "name": "python",
   "nbconvert_exporter": "python",
   "pygments_lexer": "ipython3",
   "version": "3.8.8"
  }
 },
 "nbformat": 4,
 "nbformat_minor": 5
}
